{
 "cells": [
  {
   "cell_type": "code",
   "execution_count": null,
   "id": "00542c60-6147-45dd-bc98-2c6d15b28a12",
   "metadata": {},
   "outputs": [],
   "source": []
  }
 ],
 "metadata": {
  "kernelspec": {
   "display_name": "",
   "name": ""
  },
  "language_info": {
   "name": ""
  }
 },
 "nbformat": 4,
 "nbformat_minor": 5
}
