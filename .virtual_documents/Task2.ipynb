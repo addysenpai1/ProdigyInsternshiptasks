





import warnings 
warnings.filterwarnings('ignore')

import numpy as np
import pandas as pd
import matplotlib.pyplot as plt
import seaborn as sns

sns.set_theme (context='notebook', style='whitegrid', palette='muted')





df = pd.read_csv(r'CSV/train.csv', index_col='PassengerId')





df.head()


df.info()


df.describe()


df.drop(columns='Cabin').isna().mean()





df = df.dropna(subset=['Embarked'])


df



df['Age'] = df['Age'].round()

df['Pclass'] = df['Pclass'].map({1:'Upper', 2:'Middle', 3:'Lower'})

df['Embarked'] = df['Embarked'].map({1:'Upper', 2:'Middle', 3:'Lower'})

df['Survived'] = df['Survived'].map({0:'Survived', 1:'Not Survived'})

df['Sex'] = df['Sex'].str.title()

categorical_columns = ['Sex', 'Parch', 'SibSp', 'Pclass', 'Embarked', 'Survived']
df[categorical_columns] = df[categorical_columns].astype('category')


cols = [
    'Name', 'Sex', 'Age', 'Parch', 'SibSp',
    'Ticket', 'Pclass', 'Embarked', 'Fare',
    'Survived'
]

df = df[cols]


df.head()


df.info()





sns.countplot(data=df, x='Survived')

plt.title('Suvived v/s Not Survived')
plt.show();


fig, (ax1, ax2) = plt.subplots(1, 2, figsize=(15, 7))

sns.boxplot(data=df, x='Age', y='Survived', ax=ax1, palette='muted')
ax1.set_xlabel('Age', fontsize=14)
ax1.set_ylabel('Survived', fontsize=14)
ax1.set_title('Distribution of Age')

sns.boxplot(data=df, x='Fare', y='Survived', ax=ax2, palette='muted')
ax2.set_xlabel('Fare', fontsize=14)
ax2.set_ylabel('Survived', fontsize=14)
ax2.set_title('Distribution of Fare')

plt.tight_layout()
plt.show()


sns.pairplot(data=df, hue='Survived', aspect=2);


cat_cols = ['Sex', 'Pclass', 'Parch', 'SibSp']
fig, axes = plt.subplots(2, 2, figsize=(15, 10))

for feature, ax in zip(cat_cols, axes.flatten()):
    sns.countplot(data=df, x=feature, hue='Survived', ax=ax)
    ax.set_title(f'Count of {feature}')
    ax.set_xlabel('')
    ax.set_ylabel('')

plt.tight_layout()
plt.show();
