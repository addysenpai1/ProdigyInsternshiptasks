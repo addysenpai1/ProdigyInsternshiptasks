import pandas as pd
import numpy as np
import matplotlib.pyplot as plt
import seaborn as sns
# from sklearn.preprocessing import LabelEncoder as lb


twitts_train= pd.read_csv("CSV/task4_csv/twitter_training.csv")
twitts_valid= pd.read_csv("CSV/task4_csv/twitter_validation.csv")


column_name = ["tweet_id","entity","sentiment","tweet_content"]
twitts_train.columns= column_name
twitts_valid.columns = column_name
#  Merging both datasets
data= pd.concat([twitts_train,twitts_valid],ignore_index= False)
data.head()
data.shape


data.info()


data.isna().sum()


data.columns.tolist()


data.duplicated().sum()


data.dropna(inplace= True)
data.drop_duplicates(inplace=True)
print(data.isnull().sum())
print(data.duplicated().sum())


data.drop(columns=['tweet_id','tweet_content'],inplace = True)


data.head()



entity_content = data['entity'].value_counts()

plt.figure(figsize=(10, 6))
entity_content.plot(kind='barh', color='skyblue')
plt.xlabel('Count')
plt.ylabel('Entity')
plt.title('Distribution of Entities')
plt.gca().invert_yaxis()  # Most common entity on top
plt.tight_layout()
plt.show()


entity_counts = data['entity'].value_counts(normalize=True) * 100
entity_df = entity_counts.reset_index()
entity_df.columns = ['Entity', 'Percentage']

plt.figure(figsize=(10, 6))
sns.barplot(data=entity_df, y='Entity', x='Percentage', palette='viridis')

for index, value in enumerate(entity_df['Percentage']):
    plt.text(value + 0.5, index, f'{value:.1f}%', va='center')

plt.title('Entity Distribution (%)')
plt.xlabel('Percentage')
plt.ylabel('Entity')
plt.tight_layout()
plt.show()





sentiment_counts = data['sentiment'].value_counts(normalize=True) * 100
sentiment_df = sentiment_counts.reset_index()
sentiment_df.columns = ['Sentiment', 'Percentage']

# Bar plot
plt.figure(figsize=(8, 5))
sns.barplot(data=sentiment_df, x='Sentiment', y='Percentage', palette='Set2')

# Annotate bars with %
for i, v in enumerate(sentiment_df['Percentage']):
    plt.text(i, v + 1, f"{v:.1f}%", ha='center')

plt.title("Overall Sentiment Distribution in Social Media Posts")
plt.ylabel("Percentage")
plt.ylim(0, 100)
plt.tight_layout()
plt.show()


entity_content=twitts['entity'].value_counts()
entity_content.plot(kind='pie', autopct='%1.1f%%', figsize=(10, 12))
plt.title('Distribution of Entities')
plt.show()






