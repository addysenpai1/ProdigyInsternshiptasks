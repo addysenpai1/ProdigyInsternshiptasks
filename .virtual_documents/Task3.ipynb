import pandas as pd
import matplotlib.pyplot as plt
import seaborn as sns
import numpy as np
import warnings
from sklearn.model_selection import train_test_split
from sklearn.tree import plot_tree
from sklearn.metrics import confusion_matrix,classification_report,accuracy_score

warnings.filterwarnings('ignore')
%matplotlib inline
pd.set_option('display.max_columns', 200)



df = pd.read_csv("CSV/bank-additional.csv",delimiter =";") #delimiter separates the columns on the basis of the ';' 
df.rename(columns={"y":"Deposit"},inplace= True)


df.info()


df.head()



df.tail()


df.shape


df.dtypes.value_counts()


df.columns


df.duplicated().sum()


df.isna().sum()


df.describe(include="object")


numerical=df.describe(exclude="object").columns


categorical=df.describe(include="object").columns


df.hist(figsize=(10,10),color='r')
plt.show()


# df.loc[~df.duplicated(subset=['emp.var.rate'])]
# df.query('`emp.var.rate` == -1.1')




# data= df.loc[~df.duplicated(subset=["education"])].reset_index(drop=True).copy() 


ax =df["month"].value_counts() \
    .head(10) \
    .plot(kind='barh',)
ax.set_xlabel("counts of bank usecase per Month")
plt.show()


#creating hist plots for every object in the dataset based on its features
num_col=2
num_rows= len(categorical) + 1 // 2 # for odd no. of objects or columns
plt.figure(figsize=(20,25))

for i , col in enumerate(categorical , 1) :#we initiate 1 when as start cause plots are assigned on the basis i^th no.
    plt.subplot(num_rows,num_col , i)
    sns.countplot(x= col , data = df, palette = "dark")
    plt.title(f"Bar plot of {col}")
    plt.xlabel(f"{col}")
    plt.ylabel("count")
    plt.xticks(rotation =45) #rotate the xlabel to 45 degree

plt.tight_layout()
plt.show()


df.plot(kind="box",subplots= True ,layout=(2,5), figsize=(20,10),color ="#FF5733")
plt.show()


column = df[['age','campaign','duration']]
q1 = np.percentile(column, 25)
q3 = np.percentile(column, 75)
iqr = q3 - q1
lower_bound = q1 - 1.5 * iqr
upper_bound = q3 + 1.5 * iqr
df[['age','campaign','duration']] = column[(column > lower_bound) & (column < upper_bound)]


df.plot(kind='box', subplots=True, layout=(2,5),figsize=(20,10),color='#808000')
plt.show()


numeric_df = df.drop(columns = categorical) # dropping the object datatype columns

corr = numeric_df.corr() #creating a correlation matrix
print(corr)
corr = corr[abs(corr) >= 0.90]
sns.heatmap(corr , annot = True,cmap ='plasma' ,linewidths=0.5, linecolor='white')
plt.xticks(rotation = 45)
plt.show()



high_corr_cols = ['emp.var.rate','euribor3m','nr.employed']


df1 = df.copy()
df1.columns


df1.drop(high_corr_cols,inplace=True,axis=1)  # axis=1 indicates columns
df1.columns


from sklearn.preprocessing import LabelEncoder
lb = LabelEncoder() 
df_encoded = df1.apply(lb.fit_transform) #converting categorical values  into numerical values 
df_encoded


df_encoded['Deposit'].value_counts()



x = df_encoded.drop('Deposit',axis=1)
y = df_encoded['Deposit']
print(x.shape)
print(y.shape)


x_train,x_test,y_train,y_test = train_test_split(x,y,test_size=0.25,random_state=42)
print(x_train.shape)
print(x_test.shape)
print(y_train.shape)
print(y_test.shape)



def eval_model(y_test,y_pred):
    acc = accuracy_score(y_test,y_pred)
    print('Accuracy_Score',acc)
    cm = confusion_matrix(y_test,y_pred)
    print('Confusion Matrix\n',cm)
    print('Classification Report\n',classification_report(y_test,y_pred))

def mscore(model):
    train_score = model.score(x_train,y_train)
    test_score = model.score(x_test,y_test)
    print('Training Score',train_score)  
    print('Testing Score',test_score)


from sklearn.tree import DecisionTreeClassifier

dt = DecisionTreeClassifier(criterion='gini',max_depth=5,min_samples_split=10)
dt.fit(x_train,y_train)


mscore(dt)


ypred_dt = dt.predict(x_test)
print(ypred_dt)


eval_model(y_test,ypred_dt)


cn = ['no','yes']
fn = x_train.columns
print(fn)
print(cn)


plt.figure(figsize=(30,10))
plot_tree(dt,class_names=cn,filled=True)
plt.show()


dt1 = DecisionTreeClassifier(criterion='entropy',max_depth=4,min_samples_split=15)
dt1.fit(x_train,y_train)


mscore(dt1)


ypred_dt1 = dt1.predict(x_test)



eval_model(y_test,ypred_dt1)


plt.figure(figsize=(40,20))
plot_tree(dt1,class_names=cn,filled=True)
plt.show()






