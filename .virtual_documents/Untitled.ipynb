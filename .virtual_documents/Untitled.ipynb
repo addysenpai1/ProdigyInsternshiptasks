


import pandas as pd
import matplotlib.pyplot as plt
import seaborn as sns
import numpy as np

sns.set_theme(context="notebook",style="darkgrid",palette="muted")



df = pd.read_csv(r"CSV/train.csv", index_col="PassengerId")


df.head()


df.tail()


df.info()


df.describe()


df.isna().sum()


df.dropna(subset="Embarked")


df["Sex"]= df["Sex"].str.title()


df.drop(columns=("Cabin")).isna().mean()


df = df.drop(columns='Cabin').dropna(subset=['Embarked'])


df['Age'] = df['Age'].round()
df['Pclass'] = df['Pclass'].map({1:'Upper', 2:'Middle', 3:'Lower'})
df['Embarked'] = df['Embarked'].map({1:'Upper', 2:'Middle', 3:'Lower'})
df['Survived'] = df['Survived'].map({0:'Survived', 1:'Not Survived'})
df['Sex'] = df['Sex'].str.title()
categorical_columns = ['Sex', 'Parch', 'SibSp', 'Pclass', 'Embarked', 'Survived']
df[categorical_columns] = df[categorical_columns].astype('category')


cols = [
    'Name', 'Sex', 'Age', 'Parch', 'SibSp',
    'Ticket', 'Pclass', 'Embarked', 'Fare',
    'Survived'
]

df = df[cols]


df.head()





sns.countplot(data=df,y="Survived",palette="dark",hue="Survived")
plt.title("Survived and Not Survived bar")
plt.show()


fig , (ax1,ax2)= plt.subplots(1,2, figsize=(14,6))
sns.boxplot(x='Age',y='Survived',data=df,ax=ax1,palette='viridis')
ax1.set_xlabel("Age")
ax1.set_ylabel("Survivived")
ax1.set_title("Age Distribution")

sns.boxplot(x="Fare",y="Survived",data=df,ax=ax2,palette='viridis')
ax2.set_xlabel("Fare")
ax2.set_ylabel("Survived")
ax2.set_title("Distribution of Fare")

plt.tight_layout()
plt.show()
#------------------------------------------------------


sns.pairplot(data=df, hue='Survived', aspect=2);


cat_cols = ['Sex', 'Pclass', 'Parch', 'SibSp']
fig, axes = plt.subplots(2, 2, figsize=(15, 10))

for feature, ax in zip(cat_cols, axes.flatten()):
    sns.countplot(data=df, x=feature, hue='Survived', ax=ax)
    ax.set_title(f'Count of {feature}')
    ax.set_xlabel('')
    ax.set_ylabel('')

plt.tight_layout()
plt.show();
