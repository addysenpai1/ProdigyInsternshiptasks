import pandas as pd
import seaborn as sns
import matplotlib.pyplot as plt
import numpy as np
pd.set_option('display.max_columns', 100)


df = pd.read_csv("CSV/RTA Dataset.csv")


df


print(df.head())


print(df.info())


df.describe()


df.isna()


print(df.columns)






#pie
counts = df['Weather_conditions'].value_counts()

plt.pie(counts.values, labels=counts.index, startangle=140)
plt.title('Distribution of Weather Conditions')
plt.axis('equal')
plt.show()


print(df.dtypes)


#duplicate
print(df.duplicated().sum())


#remove dupli rows
df.drop_duplicates(inplace=True)


df


#sex of driver
plt.figure(figsize=(10,6))
sns.countplot(x='Sex_of_driver', data=df, palette='pastel',hue='Sex_of_driver', legend=False )
plt.title('Distribution Of Accidents By Driver Sex')
plt.xlabel('Driver Sex')
plt.ylabel('Count')
plt.show()



#severity of accident
plt.figure(figsize=(10,6))
sns.countplot(x='Accident_severity', data=df, palette='pastel', hue='Accident_severity', legend=False)
plt.title('Distribution Of Accident Severity')
plt.xlabel('Accident Severity')
plt.ylabel('Count')
plt.show()


#education level pie chart
education_counts = df['Educational_level'].value_counts()

plt.figure(figsize=(8, 8))
plt.pie(education_counts.values, labels=education_counts.index, autopct='%1.1f%%', startangle=140)
plt.title('Distribution of Accidents by Education Level')
plt.axis('equal')  
plt.show()


#education using histogram
plt.figure(figsize=(10,6))
sns.countplot(y='Educational_level', data=df, palette='pastel', hue='Educational_level',legend=False)
plt.xlabel('Count')
plt.ylabel('Education Level')
plt.title('Distribution By Education Level')
plt.show()


#road condition
plt.figure(figsize=(10,6))
sns.countplot(y='Road_surface_conditions', data=df, palette='pastel', hue='Road_surface_conditions',legend=False)
plt.xlabel('Count')
plt.ylabel('Road surface conditions')
plt.title('Distribution By Road Condition')
plt.show()



