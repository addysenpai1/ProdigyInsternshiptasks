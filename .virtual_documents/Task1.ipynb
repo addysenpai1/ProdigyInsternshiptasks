


import pandas as pd
import numpy as np
import matplotlib.pyplot as plt 
import seaborn as sns





df=  pd.read_csv("worldpopulationdata.csv")





df.head(5)


df.tail(5)





df.columns





df.info()


df.describe()





df.duplicated().sum()





df.isnull().sum()


df.loc[:10,"2022":"2020"] #evaluating the kind of data within the dataset


df.loc[5:10,] #understanding the data





print(df["Country Name"].unique())
print("total unique countries \n",df["Country Name"].nunique())


print(df["Country Code"].unique())
print(f"Total:",df["Country Code"].nunique())





df.head()


df.drop(["Series Name","Country Name"],axis = 1 , inplace = True)


df.info()





#filteering data for total population
total_population_data = df[df["Series Code"] == "SP.POP.TOTL"] #total_population = df[df["Series Code"] == "SP.POP.TOTL"].loc[:, ["Country Code", "2010", "2015", "2020"]]

#sorting data as per the total poplation in 2022
total_population_sorted = total_population_data.sort_values(by="2022",ascending = False)

#Extracting the top 10 countries from the sorted data 
top_countries=(total_population_sorted.head(10))
print(f"Top 10 countries population in the year 2022 is: \n{top_countries["Country Code"]}")
print(top_countries["Country Code"].count())


# Indian_pop= df[df["Country Code"]=="IND"].sort_values("2020",ascending= False) #ignore_index = True 
# Temp = Indian_pop.head(10)
# # print(Temp)
# print(Temp["Series Code"])







sales_data = np.array([
    [1, 150000, 180000, 220000, 250000],  # Paradise Biryani
    [2, 120000, 140000, 160000, 190000],  # Beijing Bites
    [3, 200000, 230000, 260000, 300000],  # Pizza Hub
    [4, 180000, 210000, 240000, 270000],  # Burger Point
    [5, 160000, 185000, 205000, 230000]   # Chai Point
])


# print(np.sum(sales_data[:,1:],axis = 1))
data=sales_data[:,1:]
# np.min(data,axis=1)
cumsum=np.cumsum(data,axis=1)
print(cumsum)
print(np.mean(cumsum,axis=0))


plt.figure(figsize=(5,4))
plt.plot(np.mean(cumsum,axis=0))
plt.show()


array= np.random.rand(3,4)
print(array)
