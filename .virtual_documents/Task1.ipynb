





import pandas as pd
import numpy as np
import matplotlib.pyplot as plt 
import seaborn as sns
# import warnings
# warnings.filterwarnings('ignore')





df=  pd.read_csv("CSV/worldpopulationdata.csv")





df.head(5)


df.tail(5)





df.columns





df.info()


df.describe()





df.duplicated().sum()





df.isnull().sum()


df.loc[:10,"2022":"2020"] #evaluating the kind of data within the dataset


df.loc[5:10,] #understanding the data





print(df["Country Name"].unique())
print("total unique countries \n",df["Country Name"].nunique())


print(df["Country Code"].unique())
print(f"Total:",df["Country Code"].nunique())





df.head()


df.drop(["Series Name","Country Name"],axis = 1 , inplace = True)


df.info()





#filteering data for total population
total_population_data = df[df["Series Code"] == "SP.POP.TOTL"] #total_population = df[df["Series Code"] == "SP.POP.TOTL"].loc[:, ["Country Code", "2010", "2015", "2020"]]

#sorting data as per the total poplation in 2022
total_population_sorted1 = total_population_data.sort_values(by="2022",ascending = False)

#Extracting the top 10 countries from the sorted data 
top_countries1=(total_population_sorted1.head(10))
print(f"Top 10 countries population in the year 2022 is: \n{top_countries1[["Country Code","2022"]]}")

#-----------------------------------------------------------------

#sorting data as per the total poplation in 2020
total_population_sorted2 = total_population_data.sort_values(by="2020",ascending = False)

#Extracting the top 10 countries from the sorted data 
top_countries2=(total_population_sorted2.head(10))
print(f"Top 10 countries population in the year 2020 is: \n{top_countries2[["Country Code","2020"]]}")


# Indian_pop= df[df["Country Code"]=="IND"].sort_values("2020",ascending= False) #ignore_index = True 
# Temp = Indian_pop.head(10)
# # print(Temp)
# print(Temp["Series Code"])






#Plotting top 10 countries based on total population , between the year 2020 and 2022
#BAR plot1 year 2022
plt.figure(figsize=(15,6))
plt.subplot(2,2,1)
sns.barplot(x="Country Code",y="2022",data = top_countries1,palette="Blues",hue="Country Code")
plt.xlabel("Country Names")
plt.ylabel("Population in the year 2022")
plt.title("Top Ten Countries Population In The Year 2022")
plt.show()

#BAR plot2 year 2020
plt.figure(figsize=(15,6)) 
plt.subplot(2,2,2)
sns.barplot(x="Country Code",y="2020",data = top_countries2,palette="Spectral",hue="Country Code")
plt.xlabel("Country Names")
plt.ylabel("Population in the year 2020")
plt.title("Top Ten Countries Population In The Year 2020")
plt.show()

#Making a column graph for practice
# plt.figure(figsize=(15,6))
# plt.subplot(2,2,1)
# sns.barplot(x="2022",y="Country Code",data = top_countries,palette="Blues",hue="Series Code")
# plt.xlabel("Country Names")
# plt.ylabel("Population in the year 2022")
# plt.title("Top Ten Countries Population In The Year 2022")
# plt.show()





#step1:- Sorting data as per the bottom values
#sorting data as per the total poplation in 2022
population_sorted1 = total_population_data.sort_values(by="2022",ascending = True)
#Extracting the top 10 countries from the sorted data 
Bottom_countries1=(population_sorted1.head(10))
print(f"Bottom 10 countries population in the year 2022 is: \n{Bottom_countries1[["Country Code","2022"]]}")

#-----------------------------------------------------
population_sorted2 = total_population_data.sort_values(by="2020",ascending = True)
#Extracting the top 10 countries from the sorted data 
Bottom_countries2=(population_sorted2.head(10))
print(f"Bottom 10 countries population in the year 2020 is: \n{Bottom_countries2[["Country Code","2020"]]}")



# df["Series Code"].unique().tolist()
(df["Series Code"].value_counts())





#for the year 2022
plt.figure(figsize=(15,6))
plt.subplot(2,2,1)
sns.barplot(x="Country Code",y="2022",data = Bottom_countries1,palette ="Blues",hue="Country Code")
plt.xlabel("Countries ")
plt.ylabel("Population in the year 2022")
plt.title("Bottom Ten Countries Population In The Year 2022")
plt.show()

#for the year 2022
plt.figure(figsize=(15,6))
plt.subplot(2,2,2)
sns.barplot(x="Country Code",y="2020",data = Bottom_countries2,palette ="Greens",hue="Country Code")
plt.xlabel("Countries ")
plt.ylabel("Population in the year 2020")
plt.title("Bottom Ten Countries Population In The Year 2020")
plt.show()





Total_Male_population = df[df["Series Code"]=="SP.POP.TOTL.MA.IN"]

#sorting as per the year 2022
sorted_male = Total_Male_population.sort_values("2022",ascending= False)
top_male = sorted_male.head(10) #Top 10 COuntires with Strong Male population

print("Top Ten countries with top Male population are",top_male[["Country Code","2022","Series Code"]])
# bottom_male1 = sorted_male1.tail(10)
# print("Top Ten countries with bottom Male population are",bottom_male1[["Country Code","2022"]])



Total_Female_population = df[df["Series Code"]=="SP.POP.TOTL.FE.IN"]

#sorting as per the year 2022
sorted_female = Total_Female_population.sort_values("2022",ascending= False)
top_female = sorted_female.head(10) #Top 10 COuntires with Strong Male population

print("Top Ten countries with top Male population are",top_female[["Country Code","2022","Series Code"]])





#BARPLOT 
plt.figure(figsize=(15,6))
plt.subplot(2,2,1)
sns.barplot(x="Country Code",y="2022",data = top_male,palette ="Blues",hue="Country Code")
plt.xlabel("Countries ")
plt.ylabel("Population in the year 2022")
plt.title("Bottom Ten Countries Population In The Year 2022")
plt.show()
#--------------------------------
plt.figure(figsize=(15,6))
plt.subplot(2,2,2)
sns.barplot(x="Country Code",y="2022",data = top_female,palette ="Greens",hue="Country Code")
plt.xlabel("Countries ")
plt.ylabel("Population in the year 2022")
plt.title("Bottom Ten Countries Population In The Year 2022")
plt.show()





# Top ten countries with male and female population
merged_data= pd.merge(Total_Male_population, Total_Female_population,on="Country Code",suffixes=("_male","_female"))


merged_data["Total_population"]=merged_data["2022_male"]+merged_data["2022_female"]


merged_data.head()
#merged_data.columns


sorted_total_population= merged_data.sort_values("Total_population",ascending= False)





top_ten_countries =sorted_total_population.head(10)


#Creating a stacked Barplot 
plt.figure(figsize=(12,6))
sns.barplot(x="Country Code",y="2022_female",data=top_ten_countries,color="blue",label="female Population")
sns.barplot(x="Country Code",y="2022_male",data=top_ten_countries,bottom=top_ten_countries["2022_female"],color="green",label="Male Population")
plt.xlabel("Country")
plt.ylabel("Population")
plt.legend()
plt.xticks(rotation=45,ha="right")
plt.show()





#select the top 10 countries with the highest total population
bottom_10_countries = sorted_total_population.tail(10)


# Create the stacked bar plot
plt.figure(figsize=(12, 6))
sns.barplot(x="Country Code", y="2022_female", data=bottom_10_countries, color="red", label="Female Population")
sns.barplot(x="Country Code", y="2022_male", data=bottom_10_countries, bottom=bottom_10_countries["2022_female"], color="green", label="Male Population")
plt.xlabel("Country")
plt.ylabel("Population")
plt.legend()
plt.xticks(rotation=45, ha="right")
plt.show()

















# sorted_male2 = Total_Male_population.sort_values("2020",ascending = False)
# top_male2 = sorted_male.head(10)
# # bottom_male2 = sorted_male.tail(10)
# print("Top Ten countries with top Male population are",top_male2[["Country Code","2020"]])
# print("Top Ten countries with bottom Male population are",bottom_male2[["Country Code","2022"]])


# # BAR PLOT
# plt.figure(figsize=(15,6))
# plt.subplot(2,2,1)
# sns.barplot(x="Country Code",y="2022",data=top_male1,palette ="Blues",hue="Country Code")
# plt.xlabel("Country Name")
# plt.ylabel("Population")
# plt.title("Top popluation in the year 2022")

# #-----------------------------------------------------------
# plt.figure(figsize=(15,6))
# plt.subplot(2,2,2)
# sns.barplot(x="Country Code",y="2020",data=top_male2,palette ="Greens",hue="Country Code")
# plt.xlabel("Country Name")
# plt.ylabel("Population")
# plt.title("Top popluation in the year 2020")

